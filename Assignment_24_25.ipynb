{
 "cells": [
  {
   "cell_type": "markdown",
   "metadata": {},
   "source": [
    "# Assignment Statistics for MNW (XB0077)\n",
    "Vrije Universiteit Amsterdam\n",
    "\n",
    "**Deadline**: 26/05/2025, 23:59."
   ]
  },
  {
   "cell_type": "markdown",
   "metadata": {},
   "source": [
    "## Instructions for submission\n",
    "- This assignement can only be done in pairs. Join one of the groups with your pair on Canvas;\n",
    "- Use the supplied template to prepare your answers;\n",
    "- The assignement consists of 3 questions with several tasks each;\n",
    "- Points are awarded based on correctness, clarity of reasoning, and quality of presentation;\n",
    "- There are 100 points available and your grade is $\\max(1, points/10)$."
   ]
  },
  {
   "cell_type": "markdown",
   "metadata": {},
   "source": [
    "## Description of the dataset\n",
    "For this assignment you will work with the supplied dataset 'Dataset.csv'. This dataset contains the following information:\n",
    "- Patient_ID: Unique identifier for each patient;\n",
    "- Treatment_Group: The treatment received (Placebo, Drug A, Drug B);\n",
    "- Age: Age of the patient (30-80 years old);\n",
    "- BMI: Body Mass Index of the patient;\n",
    "- Gender: Male or Female;\n",
    "- BP_Reduction: The measured reduction in blood pressure after treatment.\n",
    "\n",
    "The goal of the analysis is three-fold:\n",
    "\n",
    "0. Visualisation: compute some summary statistics are report plots of the data;\n",
    "1. ANOVA: Compare blood pressure reduction across the three treatment groups;\n",
    "2. Regression: Investigate whether age and BMI predict blood pressure reduction."
   ]
  },
  {
   "cell_type": "markdown",
   "metadata": {},
   "source": [
    "## Question 1: Data Exploration and Visualization (30 points)\n",
    "\n",
    "Before conducting statistical tests, it's important to explore and visualize the data.\n",
    "\n",
    "### (a) Summary Statistics (12 points)\n",
    "\n",
    "(4 points) Load the dataset into Python and display the first few rows.\n",
    "\n",
    "(4 points) Compute summary statistics (mean, standard deviation, min, max) for BP_Reduction, Age, and BMI.\n",
    "\n",
    "(4 points) Count how many patients are in each treatment group and each gender.\n",
    "\n",
    "### (b) Data Visualization (18 points)\n",
    "\n",
    "(5 points) Create a boxplot showing blood pressure reduction per treatment group.conclude?\n",
    "\n",
    "(4 points) Create a histogram of BP_Reduction to assess its distribution.\n",
    "\n",
    "(5 points) Create a scatter plot of BP_Reduction vs. Age and BP_Reduction vs. BMI.\n",
    "\n",
    "(4 points) Comment on any patterns you observe from each plot and computation above."
   ]
  },
  {
   "cell_type": "markdown",
   "metadata": {},
   "source": [
    "## Question 2: ANOVA - Comparing Treatment Effects (35 points)\n",
    "\n",
    "We will now formally test whether the treatment has a significant effect on blood pressure reduction.\n",
    "\n",
    "### (a) One-Way ANOVA (15 points)\n",
    "\n",
    "(5 points) Perform a one-way ANOVA to test whether BP_Reduction differs between the three Treatment_Group levels.\n",
    "\n",
    "(5 points) Report the F-statistic and p-value.\n",
    "\n",
    "(5 points) Interpret the results: Can we conclude that at least one treatment differs from the others?\n",
    "\n",
    "### (b) Two-Way ANOVA - Interaction Effects (20 points)\n",
    "\n",
    "To explore whether gender influences the treatment effect, perform a two-way ANOVA including Gender as a second factor.\n",
    "\n",
    "(5 points) Perform a two-way ANOVA with Treatment_Group, Gender, and their interaction.\n",
    "\n",
    "(5 points) Report the results for each effect (Treatment_Group, Gender, and their interaction).\n",
    "\n",
    "(4 points) Are the results consistent with the one-way analysis and does the effectiveness of treatment depend on gender?\n",
    "\n",
    "(3 points) Visualize the interaction using an interaction plot (BP_Reduction vs. Treatment_Group, separated by Gender).\n",
    "\n",
    "(3 points) Interpret the interaction plot."
   ]
  },
  {
   "cell_type": "markdown",
   "metadata": {},
   "source": [
    "## Question 3: Regression Analysis - Predicting Blood Pressure Reduction (35 points)\n",
    "\n",
    "We now analyze whether age and BMI predict blood pressure reduction.\n",
    "\n",
    "### (a) Simple Linear Regression (15 points)\n",
    "\n",
    "(5 points) Fit a linear regression model where BP_Reduction is the dependent variable and Age is the independent variable.\n",
    "\n",
    "(5 points) Report the regression coefficient, intercept, R-squared value, and p-value.\n",
    "\n",
    "(5 points) Interpret the results: Does age significantly impact blood pressure reduction? in what direction?\n",
    "\n",
    "### (b) Multiple Regression (20 points)\n",
    "\n",
    "(5 points) Fit a multiple linear regression model where BP_Reduction is predicted by Age, BMI, and Treatment_Group.\n",
    "\n",
    "(5 points) Report the coefficients, R-squared value, and significance levels.\n",
    "\n",
    "(4 points) Which variables significantly predict blood pressure reduction?\n",
    "\n",
    "(3 points) Compare the results with the ANOVA findings. Do the regression results support the conclusions from ANOVA?\n",
    "\n",
    "(3 points) Comment on how adjusting for confounding variables (e.g., Gender, BMI, Age) may impact treatment effects."
   ]
  }
 ],
 "metadata": {
  "kernelspec": {
   "display_name": "Python 3",
   "language": "python",
   "name": "python3"
  },
  "language_info": {
   "codemirror_mode": {
    "name": "ipython",
    "version": 3
   },
   "file_extension": ".py",
   "mimetype": "text/x-python",
   "name": "python",
   "nbconvert_exporter": "python",
   "pygments_lexer": "ipython3",
   "version": "3.11.5"
  }
 },
 "nbformat": 4,
 "nbformat_minor": 2
}
