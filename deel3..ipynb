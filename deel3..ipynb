{
 "cells": [
  {
   "cell_type": "code",
   "execution_count": 1,
   "id": "dce74cfc-1e96-47d4-9ea9-799ff9a56470",
   "metadata": {},
   "outputs": [
    {
     "name": "stdout",
     "output_type": "stream",
     "text": [
      "const    13.561623\n",
      "Age      -0.087472\n",
      "dtype: float64\n",
      "0.10906568718052712\n",
      "const    1.563851e-15\n",
      "Age      7.917602e-04\n",
      "dtype: float64\n"
     ]
    }
   ],
   "source": [
    "# Import the necessary libraries to complete the assignment\n",
    "import pandas as pd               # for reading and working with data\n",
    "import statsmodels.api as sm      # for statistical models\n",
    "\n",
    "# Read the dataset\n",
    "df = pd.read_csv(\"Dataset.csv\")\n",
    "\n",
    "# This is the definition of the independent variable (Age) and and then it's added to a constant for the intercept\n",
    "X = sm.add_constant(df[\"Age\"])    # X will now include a column of 1s (intercept) and the Age values\n",
    "\n",
    "# Defining the dependent variable\n",
    "y = df[\"BP_Reduction\"]\n",
    "\n",
    "# Fitting the linear regression model\n",
    "model = sm.OLS(y, X).fit()\n",
    "\n",
    "# Print the regression results:\n",
    "print(model.params)       # shows the intercept and the slope\n",
    "print(model.rsquared)     # shows the R-squared value (how well Age explains BP_Reduction)\n",
    "print(model.pvalues)      # shows the p-values (test significance of the coefficients)\n"
   ]
  },
  {
   "cell_type": "code",
   "execution_count": null,
   "id": "ff737609-32b4-4cb9-89a3-8c26e9890596",
   "metadata": {},
   "outputs": [],
   "source": [
    "### Simple Linear Regression Results\n",
    "\n",
    "Intercept (constant): 13.5616  \n",
    "Regression coefficient for Age: -0.0875  \n",
    "R-squared value: 0.1091  \n",
    "p-value for Age: 0.00079\n"
   ]
  },
  {
   "cell_type": "code",
   "execution_count": null,
   "id": "2e6ef657-d68c-486d-9d8c-88c8b314a2f8",
   "metadata": {},
   "outputs": [],
   "source": [
    "#interpretation\n",
    "The results show that age has a statistically significant effect on blood pressure reduction because \n",
    "the p-value is 0.00079, which is below 0.05.  \n",
    "The coefficient for age is -0.087, so as people get older, their blood pressure reduction tends to go down \n",
    "a little (by about 0.087 units per year).  \n",
    "But the R-squared is only 0.11, which means age only explains around 11% of the changes in blood pressure reduction.  \n",
    "So even though the effect is statistically significant, it has not a very strong effect in practice.\n"
   ]
  },
  {
   "cell_type": "code",
   "execution_count": 3,
   "id": "b7c0ba5e-ab13-4dbb-ad2a-cdfdda64e5e0",
   "metadata": {},
   "outputs": [
    {
     "name": "stdout",
     "output_type": "stream",
     "text": [
      "                            OLS Regression Results                            \n",
      "==============================================================================\n",
      "Dep. Variable:           BP_Reduction   R-squared:                       0.520\n",
      "Model:                            OLS   Adj. R-squared:                  0.500\n",
      "Method:                 Least Squares   F-statistic:                     25.73\n",
      "Date:                Fri, 23 May 2025   Prob (F-statistic):           1.85e-14\n",
      "Time:                        20:32:57   Log-Likelihood:                -234.50\n",
      "No. Observations:                 100   AIC:                             479.0\n",
      "Df Residuals:                      95   BIC:                             492.0\n",
      "Df Model:                           4                                         \n",
      "Covariance Type:            nonrobust                                         \n",
      "=================================================================================================\n",
      "                                    coef    std err          t      P>|t|      [0.025      0.975]\n",
      "-------------------------------------------------------------------------------------------------\n",
      "Intercept                         6.0667      1.946      3.117      0.002       2.203       9.930\n",
      "C(Treatment_Group)[T.Drug B]      2.4437      0.638      3.831      0.000       1.177       3.710\n",
      "C(Treatment_Group)[T.Placebo]    -2.7394      0.629     -4.356      0.000      -3.988      -1.491\n",
      "Age                              -0.0646      0.019     -3.398      0.001      -0.102      -0.027\n",
      "BMI                               0.2339      0.056      4.167      0.000       0.122       0.345\n",
      "==============================================================================\n",
      "Omnibus:                        4.539   Durbin-Watson:                   2.468\n",
      "Prob(Omnibus):                  0.103   Jarque-Bera (JB):                2.370\n",
      "Skew:                          -0.068   Prob(JB):                        0.306\n",
      "Kurtosis:                       2.258   Cond. No.                         473.\n",
      "==============================================================================\n",
      "\n",
      "Notes:\n",
      "[1] Standard Errors assume that the covariance matrix of the errors is correctly specified.\n"
     ]
    }
   ],
   "source": [
    "#3b \n",
    "\n",
    "import pandas as pd\n",
    "import statsmodels.formula.api as smf\n",
    "\n",
    "# Fit a multiple linear regression model:\n",
    "# Dependent variable: BP_Reduction\n",
    "# Independent variables: Age, BMI, and Treatment_Group (categorical)\n",
    "model = smf.ols('BP_Reduction ~ Age + BMI + C(Treatment_Group)', data=df).fit()\n",
    "\n",
    "#  Print the summary of the regression model to see:\n",
    "# - Regression coefficients\n",
    "# - P-values (for significance testing)\n",
    "# - R-squared value (how well the model explains the data)\n",
    "print(model.summary())\n"
   ]
  },
  {
   "cell_type": "code",
   "execution_count": null,
   "id": "76b4463a-4aa0-468a-aae7-72788ecce0bc",
   "metadata": {},
   "outputs": [],
   "source": [
    "### Report: Coefficients, R-squared, and Significance Levels\n",
    "\n",
    "We fitted a multiple linear regression model where BP_Reduction is predicted by Age, BMI, and Treatment_Group.\n",
    "\n",
    "#### Coefficients:\n",
    "- Intercept: 6.067  \n",
    "- Drug B vs Drug A: +2.4437  \n",
    "- Placebo vs Drug A: −2.7394  \n",
    "- Age: −0.0646  \n",
    "- BMI: +0.2339  \n",
    "\n",
    "#### R-squared:\n",
    "- The R-squared value is 0.52, meaning the model explains 52% of the variation in blood pressure reduction.\n",
    "\n",
    "#### Significance Levels (p-values):\n",
    "- All predictors are statistically significant (p < 0.05):\n",
    "  - Drug B: p = 0.000\n",
    "  - Placebo: p = 0.000\n",
    "  - Age: p = 0.001\n",
    "  - BMI: p = 0.000\n",
    "\n",
    "This suggests that all included variables have a significant effect on blood pressure reduction.\n"
   ]
  },
  {
   "cell_type": "code",
   "execution_count": null,
   "id": "149a0210-8c26-4409-9bdd-32db010979c0",
   "metadata": {},
   "outputs": [],
   "source": [
    "All included variables are statistically significant predictors of blood pressure reduction because their p-values are below 0.05:\n",
    "  - Drug B (vs. Drug A): p = 0.000\n",
    "  - Placebo (vs. Drug A): p = 0.000\n",
    "  - Age: p = 0.001\n",
    "  - BMI: p = 0.000\n",
    "\n"
   ]
  },
  {
   "cell_type": "code",
   "execution_count": null,
   "id": "61f722d6-9644-4612-9987-8fbede0d0509",
   "metadata": {},
   "outputs": [],
   "source": [
    "### Comparison with ANOVA Results\n",
    "\n",
    "The regression results support the findings from the ANOVA test.  \n",
    "In both models, the treatment group has a significant effect on blood pressure reduction.\n",
    "\n",
    "From the regression:\n",
    "- Drug A is the reference group.\n",
    "- Drug B reduces blood pressure more than Drug A (coefficient = +2.44).\n",
    "- Placebo reduces blood pressure less than Drug A (coefficient = −2.74).\n",
    "\n",
    "This matches the ANOVA results, which also showed differences between the groups.  \n",
    "So, the regression confirms that Drug B has the strongest effect, and Placebo has the weakest.\n"
   ]
  },
  {
   "cell_type": "code",
   "execution_count": null,
   "id": "0fe178ee-ff61-4ec6-b165-36a951600636",
   "metadata": {},
   "outputs": [],
   "source": [
    "### Comment on Confounding Variables\n",
    "\n",
    "Adjusting for variables like Age, BMI, and Gender helps us see the real effect of the treatment.\n",
    "\n",
    "For example:\n",
    "- If people of different ages receive the same treatment, age might influence how well it works.\n",
    "- By including age in the analysis, we can find out if the treatment works better or worse depending on age.\n",
    "\n",
    "This approach helps us understand whether an outside factor, like age, is affecting the results, and gives a clearer view of how effective the treatment really is.\n"
   ]
  }
 ],
 "metadata": {
  "kernelspec": {
   "display_name": "Python [conda env:base] *",
   "language": "python",
   "name": "conda-base-py"
  },
  "language_info": {
   "codemirror_mode": {
    "name": "ipython",
    "version": 3
   },
   "file_extension": ".py",
   "mimetype": "text/x-python",
   "name": "python",
   "nbconvert_exporter": "python",
   "pygments_lexer": "ipython3",
   "version": "3.11.5"
  }
 },
 "nbformat": 4,
 "nbformat_minor": 5
}
