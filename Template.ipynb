{
 "cells": [
  {
   "cell_type": "markdown",
   "id": "9fc46b0a",
   "metadata": {},
   "source": [
    "# Assignment Statistics for MNW (XB0077)\n",
    "Vrije Universiteit Amsterdam"
   ]
  },
  {
   "cell_type": "markdown",
   "id": "decent-pizza",
   "metadata": {},
   "source": [
    "Group 27: Amr Samaha (2730584) and Ima Dings (student number 2)"
   ]
  },
  {
   "cell_type": "markdown",
   "id": "affecting-founder",
   "metadata": {},
   "source": [
    "# Checklist:\n",
    "- Prepare your submission using this template;\n",
    "- Fill out the group number, member names and student IDs above;\n",
    "- You can answer in English or Dutch but do use English termonology;\n",
    "- The content of the cells that you see below are just an example of the format that you should follow;\n",
    "- Type up your answers below using Latex and/or Python as exemplified;\n",
    "- Don't add the text of the question below, only your answers;\n",
    "- *Delete this cell before submitting*."
   ]
  },
  {
   "cell_type": "markdown",
   "id": "northern-gallery",
   "metadata": {},
   "source": [
    "# Exercise 1"
   ]
  },
  {
   "cell_type": "markdown",
   "id": "norwegian-quarterly",
   "metadata": {},
   "source": [
    "## (a)\n",
    "\n",
    "If $X$ has a $Bin(n,p)$ distribution, then \n",
    "$$\n",
    "\\mathbb{P}(X=k) = \n",
    "{n \\choose k} p^k (1-p)^{n-k}, \n",
    "\\quad k=0,\\dots,n.\n",
    "$$\n",
    "We then have that $Y = n-X$ satisfies\n",
    "$$\n",
    "\\mathbb{P}(Y=k) = \n",
    "\\mathbb{P}(n-X=k) =\n",
    "\\mathbb{P}(X=n-k) = {n \\choose k} p^{n-k} (1-p)^k, \n",
    "\\quad k=0,\\dots,n,\n",
    "$$\n",
    "so that $Y$ has a $Bin(n,1-p)$ distribution."
   ]
  },
  {
   "cell_type": "markdown",
   "id": "laughing-inquiry",
   "metadata": {},
   "source": [
    "## (b)\n",
    "\n",
    "_Answer goes here_"
   ]
  },
  {
   "cell_type": "markdown",
   "id": "happy-pierce",
   "metadata": {},
   "source": [
    "## (c)\n",
    "\n",
    "_Answer goes here_"
   ]
  },
  {
   "cell_type": "markdown",
   "id": "successful-curve",
   "metadata": {},
   "source": [
    "# Exercise 2"
   ]
  },
  {
   "cell_type": "markdown",
   "id": "acute-concern",
   "metadata": {},
   "source": [
    "## (a)\n",
    "\n",
    "The sample mean and the sample variance of the sample $1,3,4,5,2,3,4,5,6,7$ are computed in the following cell."
   ]
  },
  {
   "cell_type": "code",
   "execution_count": 1,
   "id": "according-irrigation",
   "metadata": {},
   "outputs": [
    {
     "name": "stdout",
     "output_type": "stream",
     "text": [
      "4.0 3.0\n"
     ]
    }
   ],
   "source": [
    "import numpy as np\n",
    "data = np.array([1,3,4,5,2,3,4,5,6,7])\n",
    "m = sum(data)/len(data)\n",
    "v2 = sum((data-m)**2)/len(data)\n",
    "print(m,v2)"
   ]
  },
  {
   "cell_type": "markdown",
   "id": "automatic-writer",
   "metadata": {},
   "source": [
    "## (b)\n",
    "\n",
    "_Answer goes here_"
   ]
  }
 ],
 "metadata": {
  "kernelspec": {
   "display_name": "Python 3",
   "language": "python",
   "name": "python3"
  },
  "language_info": {
   "codemirror_mode": {
    "name": "ipython",
    "version": 3
   },
   "file_extension": ".py",
   "mimetype": "text/x-python",
   "name": "python",
   "nbconvert_exporter": "python",
   "pygments_lexer": "ipython3",
   "version": "3.11.5"
  }
 },
 "nbformat": 4,
 "nbformat_minor": 5
}
