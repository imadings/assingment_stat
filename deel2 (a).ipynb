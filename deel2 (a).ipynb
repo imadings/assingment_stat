{
 "cells": [
  {
   "cell_type": "code",
   "execution_count": 12,
   "id": "67801ff6-5036-44a0-8b89-02b3df7f5590",
   "metadata": {},
   "outputs": [
    {
     "data": {
      "text/html": [
       "<div>\n",
       "<style scoped>\n",
       "    .dataframe tbody tr th:only-of-type {\n",
       "        vertical-align: middle;\n",
       "    }\n",
       "\n",
       "    .dataframe tbody tr th {\n",
       "        vertical-align: top;\n",
       "    }\n",
       "\n",
       "    .dataframe thead th {\n",
       "        text-align: right;\n",
       "    }\n",
       "</style>\n",
       "<table border=\"1\" class=\"dataframe\">\n",
       "  <thead>\n",
       "    <tr style=\"text-align: right;\">\n",
       "      <th></th>\n",
       "      <th>sum_sq</th>\n",
       "      <th>df</th>\n",
       "      <th>F</th>\n",
       "      <th>PR(&gt;F)</th>\n",
       "    </tr>\n",
       "  </thead>\n",
       "  <tbody>\n",
       "    <tr>\n",
       "      <th>C(Treatment_Group)</th>\n",
       "      <td>492.628844</td>\n",
       "      <td>2.0</td>\n",
       "      <td>28.607813</td>\n",
       "      <td>1.714758e-10</td>\n",
       "    </tr>\n",
       "    <tr>\n",
       "      <th>Residual</th>\n",
       "      <td>835.173920</td>\n",
       "      <td>97.0</td>\n",
       "      <td>NaN</td>\n",
       "      <td>NaN</td>\n",
       "    </tr>\n",
       "  </tbody>\n",
       "</table>\n",
       "</div>"
      ],
      "text/plain": [
       "                        sum_sq    df          F        PR(>F)\n",
       "C(Treatment_Group)  492.628844   2.0  28.607813  1.714758e-10\n",
       "Residual            835.173920  97.0        NaN           NaN"
      ]
     },
     "execution_count": 12,
     "metadata": {},
     "output_type": "execute_result"
    }
   ],
   "source": [
    "# Import the tools we need for ANOVA\n",
    "import statsmodels.api as sm\n",
    "import statsmodels.formula.api as smf\n",
    "\n",
    "# we want to see if the treatment group affects BP_Reduction\n",
    "model = smf.ols('BP_Reduction ~ C(Treatment_Group)', data=df).fit()\n",
    "\n",
    "# Run the ANOVA test\n",
    "anova_results = sm.stats.anova_lm(model, typ=2)\n",
    "\n",
    "# Show the results\n",
    "anova_results\n"
   ]
  },
  {
   "cell_type": "code",
   "execution_count": null,
   "id": "528b2432-bd38-42f1-b30c-8595a0f6d5c5",
   "metadata": {},
   "outputs": [],
   "source": [
    "### One-Way ANOVA (Part a)\n",
    "\n",
    "We ran a one-way ANOVA to test if the average blood pressure reduction differs between the three treatment groups (Placebo, Drug A, and Drug B).\n",
    "\n",
    "F-statistic: 28.61  \n",
    "p-value: 1.71e-10\n",
    "\n",
    "The p-value is much smaller than 0.05, which means the difference between the groups is statistically significant.\n",
    "\n",
    "✅ We can conclude that at least one treatment group  is different from the others in terms of blood pressure reduction, , but we do not know exactly which groups differ from each other.\n"
   ]
  }
 ],
 "metadata": {
  "kernelspec": {
   "display_name": "Python [conda env:base] *",
   "language": "python",
   "name": "conda-base-py"
  },
  "language_info": {
   "codemirror_mode": {
    "name": "ipython",
    "version": 3
   },
   "file_extension": ".py",
   "mimetype": "text/x-python",
   "name": "python",
   "nbconvert_exporter": "python",
   "pygments_lexer": "ipython3",
   "version": "3.11.5"
  }
 },
 "nbformat": 4,
 "nbformat_minor": 5
}
